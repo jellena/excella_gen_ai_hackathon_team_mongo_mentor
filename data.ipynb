{
 "cells": [
  {
   "cell_type": "markdown",
   "metadata": {},
   "source": [
    "# Data Generation and Preparation\n",
    "\n",
    "Here we'll gather the data we want to fine tune with, as well as do some preparation for a model to be able to intake the data."
   ]
  },
  {
   "cell_type": "code",
   "execution_count": 1,
   "metadata": {},
   "outputs": [],
   "source": [
    "# Imports\n",
    "import pandas as pd\n",
    "import os\n",
    "from google.cloud import bigquery\n",
    "\n",
    "# Option\n",
    "pd.set_option('display.max_colwidth', 500)"
   ]
  },
  {
   "cell_type": "markdown",
   "metadata": {},
   "source": [
    "### Data Generation\n",
    "\n",
    "As with many Gen AI models, we want to be able to ask this model a question and get an answer back. One of the best repositories to find a large collection of questions and answers is the online Programming Language Library of Alexandria, otherwise known as Stack Overflow.\n",
    "\n",
    "There are several ways to get Stack Overflow Data:\n",
    "- Use an API to query Stack Overflow directly\n",
    "- Download a publicly available data dump and query from that\n",
    "- Query the data from Google BigQuery\n",
    "\n",
    "If this were a long term project creating a framework to collect data, pulling from Stack Overflow's APIs would be best. However as this is an exploratory project we'll query the data from BigQuery, since that is the best tradeoff between simplicity and speed.\n",
    "\n",
    "---\n",
    "\n",
    "##### Credentials\n",
    "\n",
    "In order to access Google BigQuery we need to create an account and create access credentials. While this does require a Google Cloud Account, the volume of the query is low enough that there are no charges.\n",
    "- [Account Creation](https://cloud.google.com/)\n",
    "- [Project Creation](https://cloud.google.com/resource-manager/docs/creating-managing-projects)\n",
    "- [Credential Creation](https://developers.google.com/workspace/guides/create-credentials)\n",
    "\n",
    "For this repository to run:\n",
    "1.  Create a folder titled `credentials` one directory above your repository\n",
    "2.  Save the json created by Google Cloud Here\n",
    "3.  Rename the file `gen-ai-hackathon.json`"
   ]
  },
  {
   "cell_type": "code",
   "execution_count": 2,
   "metadata": {},
   "outputs": [],
   "source": [
    "# This sets an environmental variable containing all the information Big Query needs to allow the query to run\n",
    "os.environ['GOOGLE_APPLICATION_CREDENTIALS'] = '../credentials/gen-ai-hackathon.json'"
   ]
  },
  {
   "cell_type": "markdown",
   "metadata": {},
   "source": [
    "#### Query\n",
    "Here we write our SQL for querying the data from Big Query. The ultimate goal is to create a grouping of question/answer pairs that we can further process into a corpus that we can tokenize for the model to fine tune on."
   ]
  },
  {
   "cell_type": "code",
   "execution_count": 3,
   "metadata": {},
   "outputs": [],
   "source": [
    "SO_MONGO_QUERY = \"\"\"\n",
    "SELECT\n",
    "    CONCAT(q.title, q.body) as question,\n",
    "    a.body AS answer\n",
    "FROM\n",
    "    `bigquery-public-data.stackoverflow.posts_questions` q\n",
    "JOIN\n",
    "    `bigquery-public-data.stackoverflow.posts_answers` a\n",
    "ON\n",
    "    q.accepted_answer_id = a.id\n",
    "WHERE\n",
    "    q.accepted_answer_id IS NOT NULL AND -- This is to return only questions with answers\n",
    "    REGEXP_CONTAINS(q.tags, \"mongo\")\n",
    "\"\"\""
   ]
  },
  {
   "cell_type": "code",
   "execution_count": 4,
   "metadata": {},
   "outputs": [],
   "source": [
    "stack_overflow_df = bigquery.Client().query(SO_MONGO_QUERY).result().to_arrow().to_pandas()"
   ]
  },
  {
   "cell_type": "code",
   "execution_count": 5,
   "metadata": {},
   "outputs": [
    {
     "name": "stdout",
     "output_type": "stream",
     "text": [
      "The Query Returned 87090 rows\n"
     ]
    }
   ],
   "source": [
    "print(f'The Query Returned {stack_overflow_df.shape[0]} rows')"
   ]
  },
  {
   "cell_type": "markdown",
   "metadata": {},
   "source": [
    "#### Data Preparation\n",
    "\n",
    "As we see above, our query returned over 80,000 rows of question/answer pairs. However in order begin tuning we'll need to transform this into something a model can interpret.\n",
    "\n",
    "For this we'll need not a tabular data set but a combined text string of both the question and answer that we can feed into the model.\n",
    "\n",
    "The function below will merge both the question and answer columns in a format that the model can learn from.  \n",
    "<br />\n",
    "  \n",
    "```python\n",
    "### Question: {Question Column} \n",
    "\n",
    "### Answer: {Answer Column}\n",
    "```"
   ]
  },
  {
   "cell_type": "code",
   "execution_count": 6,
   "metadata": {},
   "outputs": [],
   "source": [
    "def template_formatter(data):\n",
    "    output = []\n",
    "    for i in range(len(data['question'])):\n",
    "        text = f\"### Question: {data['question'][i]}\\n ### Answer: {data['answer'][i]}\"\n",
    "        output.append(text)\n",
    "    return output"
   ]
  },
  {
   "cell_type": "markdown",
   "metadata": {},
   "source": [
    "Next we'll use the function above to create a list with each entry in the Q/A template formate "
   ]
  },
  {
   "cell_type": "code",
   "execution_count": 7,
   "metadata": {},
   "outputs": [
    {
     "data": {
      "text/plain": [
       "[\"### Question: Mongoose findById is not returning all fields<p>I'm calling findById using mongoose and it's not returning all fields, or at least it's not mapping to a field correctly. But it returns that field if I use aggregate</p>\\n<p>I have the following schema</p>\\n<pre><code>const ratingSchema = new mongoose.Schema({\\n    rating: {\\n        type: Number,\\n        default: 0,\\n        min: 0,\\n        max: 5\\n    }\\n})\\n\\nconst locationSchema = new mongoose.Schema({ \\n    name: {\\n        type: String,\\n        required: true,\\n    },\\n    address: {\\n        type: String,\\n        required: true,\\n    },\\n    rating: ratingSchema,\\n    \\n    facilities: [String],\\n});\\n\\nlocationSchema.index({coords: '2dsphere'});\\n\\nmongoose.model('Location', locationSchema);\\n</code></pre>\\n<p>When I call</p>\\n<pre><code>const Loc = mongoose.model('Location');\\n\\nconst locationsReadOne = (req, res) =&gt; {\\n    Loc\\n        .findById(req.params.locationid)\\n        .exec((err, location) =&gt; {\\n            if (!location) {\\n                return res.status(404).json({&quot;message&quot;:&quot;location not found&quot;});\\n            } else if (err) {\\n                return res.status(404).json(err);\\n            }\\n            console.log(&quot;locationsReadOne:&quot;,location);\\n            res.status(200).json(location);\\n        });\\n};\\n</code></pre>\\n<p>It returns the schema, but the rating field is not being returned. Here is a console.log of the returned object:</p>\\n<pre><code>locationsReadOne: {\\n  facilities: [ 'Hot drinks', 'Food', 'Premium wifi' ],\\n  _id: 5f88bfdc4df4ca7709462865,\\n  name: 'Starcups',\\n  address: '125 High Street, Reading, RG6 1PS'\\n}\\n</code></pre>\\n<p>If I call Loc.aggregate, the rating field is returned:</p>\\n<pre><code>{\\n  _id: 5f8b2ee15b0b6784a847b600,\\n  facilities: [ 'Tea', ' Restroom' ],\\n  name: 'Tea Leaf',\\n  address: '2192 Green St.',\\n  rating: 0,\\n\\n}\\n{\\n  _id: 5f88bfdc4df4ca7709462865,\\n  name: 'Starcups',\\n  address: '125 High Street, Reading, RG6 1PS',\\n  rating: 3,\\n  facilities: [ 'Hot drinks', 'Food', 'Premium wifi' ]\\n}\\n</code></pre>\\n<p>Any idea why this would happen? I can clearly see the rating field in each of the documents in MongoDB compass and they are all listed as type Double. Why are they being returned in aggregate, but not in findById(id) or even in find()?</p>\\n<p>Thank you.</p>\\n ### Answer: <p>When you use <code>find</code> in mongoose, it will populate the document with the fields from the schema. For example - if you remove a field from the schema, you may not see that on the found document, even if it is in the database. Aggregate and Compass are showing you exactly what's in the database, so that data is there, it is just not being populated on the document because it doesn't see it on the schema.</p>\\n<p>The reason for that is your <code>ratingSchema</code> is an object with a <code>rating</code> property. So mongoose is looking for something like:</p>\\n<pre><code>{\\n  name: ...\\n  rating: {\\n     rating: 2 \\n  }\\n}\\n</code></pre>\\n<p>And not finding it, so it's not populating. To fix this, I would not define rating as a subschema, and instead define your schema as</p>\\n<pre><code>const locationSchema = new mongoose.Schema({ \\n    name: {\\n        type: String,\\n        required: true,\\n    },\\n    address: {\\n        type: String,\\n        required: true,\\n    },\\n    rating: {\\n        type: Number,\\n        default: 0,\\n        min: 0,\\n        max: 5\\n    },   \\n    facilities: [String],\\n});\\n</code></pre>\"]"
      ]
     },
     "execution_count": 7,
     "metadata": {},
     "output_type": "execute_result"
    }
   ],
   "source": [
    "template_formatted_data = template_formatter(stack_overflow_df)\n",
    "template_formatted_data[:1]"
   ]
  },
  {
   "cell_type": "markdown",
   "metadata": {},
   "source": [
    "Now we'll format this list into a csv with the header of `text`. This header will be important later in the workflow.\n",
    "\n",
    "First let's create dataframe so we can take a peek at what our new corpus looks like."
   ]
  },
  {
   "cell_type": "code",
   "execution_count": 8,
   "metadata": {},
   "outputs": [
    {
     "data": {
      "text/html": [
       "<div>\n",
       "<style scoped>\n",
       "    .dataframe tbody tr th:only-of-type {\n",
       "        vertical-align: middle;\n",
       "    }\n",
       "\n",
       "    .dataframe tbody tr th {\n",
       "        vertical-align: top;\n",
       "    }\n",
       "\n",
       "    .dataframe thead th {\n",
       "        text-align: right;\n",
       "    }\n",
       "</style>\n",
       "<table border=\"1\" class=\"dataframe\">\n",
       "  <thead>\n",
       "    <tr style=\"text-align: right;\">\n",
       "      <th></th>\n",
       "      <th>text</th>\n",
       "    </tr>\n",
       "  </thead>\n",
       "  <tbody>\n",
       "    <tr>\n",
       "      <th>0</th>\n",
       "      <td>### Question: Mongoose findById is not returning all fields&lt;p&gt;I'm calling findById using mongoose and it's not returning all fields, or at least it's not mapping to a field correctly. But it returns that field if I use aggregate&lt;/p&gt;\\n&lt;p&gt;I have the following schema&lt;/p&gt;\\n&lt;pre&gt;&lt;code&gt;const ratingSchema = new mongoose.Schema({\\n    rating: {\\n        type: Number,\\n        default: 0,\\n        min: 0,\\n        max: 5\\n    }\\n})\\n\\nconst locationSchema = new mongoose.Schema({ \\n    name: {\\n      ...</td>\n",
       "    </tr>\n",
       "    <tr>\n",
       "      <th>1</th>\n",
       "      <td>### Question: Why is my mongo collection being wiped on azure ubuntu instance?&lt;p&gt;I'm using azure ubuntu instance to store some data every minute in a mongo database. I noticed that the data is being wiped approximately once a day. I'm wondering why my data is being wiped?&lt;/p&gt;\\n&lt;p&gt;I have a log every minute that shows a count of the db. Here are two consecutive minutes that show all records are deleted&lt;/p&gt;\\n&lt;pre&gt;&lt;code&gt;**************************************\\nupdate at utc: 2022-08-06 10:19:02.3...</td>\n",
       "    </tr>\n",
       "    <tr>\n",
       "      <th>2</th>\n",
       "      <td>### Question: MongoDb score results based on simple matches&lt;p&gt;I'm trying to create a simple search algorithm that will try to match against a first name, last name, and/or set of tags, as an example:&lt;/p&gt;\\n&lt;pre&gt;&lt;code&gt;[\\n  {\\n    &amp;quot;key&amp;quot;: 1,\\n    &amp;quot;fname&amp;quot;: &amp;quot;Bob&amp;quot;,\\n    &amp;quot;lname&amp;quot;: &amp;quot;Smith&amp;quot;,\\n    &amp;quot;tags&amp;quot;: [\\n      &amp;quot;a&amp;quot;,\\n      &amp;quot;b&amp;quot;,\\n      &amp;quot;c&amp;quot;\\n    ]\\n  },\\n  {\\n    &amp;quot;key&amp;quot;: 2,\\n    &amp;quot;fname&amp;quot;: &amp;quot;J...</td>\n",
       "    </tr>\n",
       "    <tr>\n",
       "      <th>3</th>\n",
       "      <td>### Question: Laravel 5.7 mongodb atlas connection problem using jenssegers/mongodb&lt;p&gt;I want to connect my laravel 5.7 application(I used the 3.4 version of jenssegers/mongodb)  with a mongodb in atlas, I tried in localhost(I isntalled the mongo extension) and everything is ok but with atlas i got an error message:&lt;/p&gt;\\n&lt;blockquote&gt;\\n&lt;p&gt;Failed to parse MongoDB URI:\\n'mongodb://root%3Acluster0.xxx.mongodb.net%3A27017%2Fhddatabase%3FretryWrites%3Dtrue%26w%3Dmajority'.\\nInvalid host string in U...</td>\n",
       "    </tr>\n",
       "    <tr>\n",
       "      <th>4</th>\n",
       "      <td>### Question: Remote Mongo DB connection through shell scripts&lt;p&gt;I have to establish connection to Remote mongo database through shell script and execute a js file with mongo queries  Please help me with the commands..&lt;/p&gt;\\n ### Answer: &lt;p&gt;In general:&lt;/p&gt;\\n&lt;pre&gt;&lt;code&gt; mongo mongodb://user:&amp;lt;pass&amp;gt;@&amp;lt;ip&amp;gt;:27017/test&amp;amp;authSource=admin myjsfile.js\\n&lt;/code&gt;&lt;/pre&gt;</td>\n",
       "    </tr>\n",
       "  </tbody>\n",
       "</table>\n",
       "</div>"
      ],
      "text/plain": [
       "                                                                                                                                                                                                                                                                                                                                                                                                                                                                                                                  text\n",
       "0  ### Question: Mongoose findById is not returning all fields<p>I'm calling findById using mongoose and it's not returning all fields, or at least it's not mapping to a field correctly. But it returns that field if I use aggregate</p>\\n<p>I have the following schema</p>\\n<pre><code>const ratingSchema = new mongoose.Schema({\\n    rating: {\\n        type: Number,\\n        default: 0,\\n        min: 0,\\n        max: 5\\n    }\\n})\\n\\nconst locationSchema = new mongoose.Schema({ \\n    name: {\\n      ...\n",
       "1  ### Question: Why is my mongo collection being wiped on azure ubuntu instance?<p>I'm using azure ubuntu instance to store some data every minute in a mongo database. I noticed that the data is being wiped approximately once a day. I'm wondering why my data is being wiped?</p>\\n<p>I have a log every minute that shows a count of the db. Here are two consecutive minutes that show all records are deleted</p>\\n<pre><code>**************************************\\nupdate at utc: 2022-08-06 10:19:02.3...\n",
       "2  ### Question: MongoDb score results based on simple matches<p>I'm trying to create a simple search algorithm that will try to match against a first name, last name, and/or set of tags, as an example:</p>\\n<pre><code>[\\n  {\\n    &quot;key&quot;: 1,\\n    &quot;fname&quot;: &quot;Bob&quot;,\\n    &quot;lname&quot;: &quot;Smith&quot;,\\n    &quot;tags&quot;: [\\n      &quot;a&quot;,\\n      &quot;b&quot;,\\n      &quot;c&quot;\\n    ]\\n  },\\n  {\\n    &quot;key&quot;: 2,\\n    &quot;fname&quot;: &quot;J...\n",
       "3  ### Question: Laravel 5.7 mongodb atlas connection problem using jenssegers/mongodb<p>I want to connect my laravel 5.7 application(I used the 3.4 version of jenssegers/mongodb)  with a mongodb in atlas, I tried in localhost(I isntalled the mongo extension) and everything is ok but with atlas i got an error message:</p>\\n<blockquote>\\n<p>Failed to parse MongoDB URI:\\n'mongodb://root%3Acluster0.xxx.mongodb.net%3A27017%2Fhddatabase%3FretryWrites%3Dtrue%26w%3Dmajority'.\\nInvalid host string in U...\n",
       "4                                                                                                                                 ### Question: Remote Mongo DB connection through shell scripts<p>I have to establish connection to Remote mongo database through shell script and execute a js file with mongo queries  Please help me with the commands..</p>\\n ### Answer: <p>In general:</p>\\n<pre><code> mongo mongodb://user:&lt;pass&gt;@&lt;ip&gt;:27017/test&amp;authSource=admin myjsfile.js\\n</code></pre>"
      ]
     },
     "execution_count": 8,
     "metadata": {},
     "output_type": "execute_result"
    }
   ],
   "source": [
    "template_formatted_df = pd.DataFrame(template_formatted_data, columns=[\"text\"])\n",
    "template_formatted_df.head()"
   ]
  },
  {
   "cell_type": "markdown",
   "metadata": {},
   "source": [
    "Finally, we'll save that dataframe as a csv file to be used later."
   ]
  },
  {
   "cell_type": "code",
   "execution_count": 9,
   "metadata": {},
   "outputs": [],
   "source": [
    "# The file extension is purposly left off as a class used later does not like it\n",
    "template_formatted_df.to_csv(\"./data/csv_template_formatted\", index=False)"
   ]
  },
  {
   "cell_type": "markdown",
   "metadata": {},
   "source": [
    "Now that we have our data formatted we can move onto bringing a model into our local environment and begin the process of fine tuning."
   ]
  }
 ],
 "metadata": {
  "kernelspec": {
   "display_name": "Python 3",
   "language": "python",
   "name": "python3"
  },
  "language_info": {
   "codemirror_mode": {
    "name": "ipython",
    "version": 3
   },
   "file_extension": ".py",
   "mimetype": "text/x-python",
   "name": "python",
   "nbconvert_exporter": "python",
   "pygments_lexer": "ipython3",
   "version": "3.11.8"
  }
 },
 "nbformat": 4,
 "nbformat_minor": 2
}
